{
 "cells": [
  {
   "cell_type": "code",
   "execution_count": 4,
   "metadata": {},
   "outputs": [],
   "source": [
    "import matplotlib.pylab as plt # plotting package\n",
    "#from skimage import io         # utilities to read and write images in various formats\n",
    "import numpy as np\n",
    "import csv\n",
    "import sys\n",
    "\n",
    "sys.path.insert(0, '../SpatialVelocity/')\n",
    "\n",
    "# array manipulation package\n",
    "import vector_util as vu"
   ]
  },
  {
   "cell_type": "code",
   "execution_count": 2,
   "metadata": {},
   "outputs": [],
   "source": [
    "%matplotlib inline"
   ]
  },
  {
   "cell_type": "code",
   "execution_count": 10,
   "metadata": {},
   "outputs": [
    {
     "name": "stdout",
     "output_type": "stream",
     "text": [
      "2018-10-19T18:45:06,819Z\n",
      "2018-10-19T18:45:07,817Z\n",
      "2018-10-19T18:45:08,819Z\n",
      "2018-10-19T18:45:09,820Z\n",
      "2018-10-19T18:45:10,822Z\n",
      "2018-10-19T18:45:11,810Z\n",
      "2018-10-19T18:45:12,816Z\n",
      "2018-10-19T18:45:13,818Z\n",
      "2018-10-19T18:45:14,819Z\n",
      "2018-10-19T18:45:15,820Z\n"
     ]
    }
   ],
   "source": [
    "# Read rows from log file \n",
    "data = []\n",
    "import csv\n",
    "with open('./LOG_2018-10-19_18.45.5.csv') as csvfile:\n",
    "    dialect = csv.Sniffer().sniff(csvfile.read(5000))\n",
    "    csvfile.seek(0)\n",
    "    reader = csv.DictReader(csvfile,dialect=dialect)\n",
    "    for row in reader:\n",
    "        data.append(row)\n",
    "        \n",
    "for row in data[:10]:\n",
    "    print (row['TIMESTAMP'])\n",
    "    \n",
    "\n"
   ]
  },
  {
   "cell_type": "code",
   "execution_count": null,
   "metadata": {},
   "outputs": [],
   "source": [
    "\n"
   ]
  }
 ],
 "metadata": {
  "kernelspec": {
   "display_name": "Python 3",
   "language": "python",
   "name": "python3"
  },
  "language_info": {
   "codemirror_mode": {
    "name": "ipython",
    "version": 3
   },
   "file_extension": ".py",
   "mimetype": "text/x-python",
   "name": "python",
   "nbconvert_exporter": "python",
   "pygments_lexer": "ipython3",
   "version": "3.6.6"
  }
 },
 "nbformat": 4,
 "nbformat_minor": 2
}
